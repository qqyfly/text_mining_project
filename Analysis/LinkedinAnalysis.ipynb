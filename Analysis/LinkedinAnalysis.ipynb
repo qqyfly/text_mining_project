{
 "cells": [
  {
   "cell_type": "code",
   "execution_count": 1,
   "metadata": {},
   "outputs": [],
   "source": [
    "# load libraries\n",
    "import pandas as pd\n",
    "import numpy as np\n",
    "import matplotlib.pyplot as plt\n",
    "import seaborn as sns"
   ]
  },
  {
   "cell_type": "code",
   "execution_count": 2,
   "metadata": {},
   "outputs": [],
   "source": [
    "# load data from csv files\n",
    "postings_data = pd.read_csv('data/postings.csv')"
   ]
  },
  {
   "cell_type": "code",
   "execution_count": 15,
   "metadata": {},
   "outputs": [
    {
     "data": {
      "text/plain": [
       "123849"
      ]
     },
     "execution_count": 15,
     "metadata": {},
     "output_type": "execute_result"
    }
   ],
   "source": [
    "postings_data.job_id.count()"
   ]
  },
  {
   "cell_type": "code",
   "execution_count": 48,
   "metadata": {},
   "outputs": [
    {
     "data": {
      "text/plain": [
       "90485     This position requires the following skills: E...\n",
       "62667                                   \\n\\n\\n\\nPI239756106\n",
       "52940     This Team Member will have:Educational Require...\n",
       "32255                 \\n\\n\\n\\nPI69f82b5a5c24-29463-33240768\n",
       "52350                 \\n\\n\\n\\nPId54d091d7872-29463-34208860\n",
       "                                ...                        \n",
       "51746     CPGallergen freecafeteriak-12media marketingsc...\n",
       "112652                \\n\\n\\n\\nPI90a1f4a202b8-29463-34285069\n",
       "98003                 \\n\\n\\n\\nPIb552cb83a07b-29463-34224954\n",
       "12763     This position requires the following skills: A...\n",
       "114066    Minimum qualifications:Show up EVERY day. (Att...\n",
       "Name: skills_desc, Length: 117, dtype: object"
      ]
     },
     "execution_count": 48,
     "metadata": {},
     "output_type": "execute_result"
    }
   ],
   "source": [
    "# filter skills_desc not equal to NaN\n",
    "postings_data = postings_data[postings_data.skills_desc.notnull()]\n",
    "postings_data.skills_desc\n",
    "\n",
    "# 117 of 123849, so means skills_desc is useless, we need to build our own skills_desc from the job description\n"
   ]
  },
  {
   "cell_type": "code",
   "execution_count": 28,
   "metadata": {},
   "outputs": [],
   "source": [
    "# since too much data, we need to sample 5% data and save to a new csv file, then based on the new data to develop the model\n",
    "postings_data_sample = postings_data.sample(frac=0.05, random_state=1)\n",
    "postings_data_sample.to_csv('data/postings_sample.csv', index=False)"
   ]
  },
  {
   "cell_type": "code",
   "execution_count": 30,
   "metadata": {},
   "outputs": [
    {
     "data": {
      "text/plain": [
       "6192"
      ]
     },
     "execution_count": 30,
     "metadata": {},
     "output_type": "execute_result"
    }
   ],
   "source": [
    "postings_data_sample.job_id.count()"
   ]
  },
  {
   "cell_type": "code",
   "execution_count": 33,
   "metadata": {},
   "outputs": [],
   "source": [
    "# Comment it after model is developed\n",
    "postings_data = postings_data_sample"
   ]
  },
  {
   "cell_type": "code",
   "execution_count": 34,
   "metadata": {},
   "outputs": [
    {
     "data": {
      "text/plain": [
       "Timestamp('2024-02-14 20:08:13')"
      ]
     },
     "execution_count": 34,
     "metadata": {},
     "output_type": "execute_result"
    }
   ],
   "source": [
    "data_start = postings_data.original_listed_time.min()\n",
    "# convert the data_start to datetime\n",
    "pd.to_datetime(data_start, unit='ms')"
   ]
  },
  {
   "cell_type": "code",
   "execution_count": 35,
   "metadata": {},
   "outputs": [
    {
     "data": {
      "text/plain": [
       "Timestamp('2024-04-20 00:26:30')"
      ]
     },
     "execution_count": 35,
     "metadata": {},
     "output_type": "execute_result"
    }
   ],
   "source": [
    "data_end = postings_data.original_listed_time.max()\n",
    "# convert the data_end to datetime\n",
    "pd.to_datetime(data_end, unit='ms')"
   ]
  },
  {
   "cell_type": "code",
   "execution_count": 37,
   "metadata": {},
   "outputs": [
    {
     "data": {
      "text/plain": [
       "109896   2024-04-19 02:25:01\n",
       "15087    2024-04-06 03:19:27\n",
       "101176   2024-04-18 18:19:35\n",
       "106314   2024-04-18 22:13:08\n",
       "79678    2024-04-18 21:22:08\n",
       "Name: original_listed_time, dtype: datetime64[ns]"
      ]
     },
     "execution_count": 37,
     "metadata": {},
     "output_type": "execute_result"
    }
   ],
   "source": [
    "# order post by posted time\n",
    "postings_data_ordered = postings_data.sort_values(by='original_listed_time', ascending=True)\n",
    "# convert the listed_time column to datetime\n",
    "postings_data[\"original_listed_time\"] = pd.to_datetime(postings_data[\"original_listed_time\"], unit='ms')\n",
    "postings_data[\"original_listed_time\"].head()"
   ]
  },
  {
   "cell_type": "code",
   "execution_count": 38,
   "metadata": {},
   "outputs": [
    {
     "data": {
      "text/plain": [
       "array(['Associate', nan, 'Entry level', 'Mid-Senior level', 'Internship',\n",
       "       'Director', 'Executive'], dtype=object)"
      ]
     },
     "execution_count": 38,
     "metadata": {},
     "output_type": "execute_result"
    }
   ],
   "source": [
    "postings_data[\"formatted_experience_level\"].unique()"
   ]
  },
  {
   "cell_type": "code",
   "execution_count": 25,
   "metadata": {},
   "outputs": [
    {
     "data": {
      "text/plain": [
       "array(['FULL_TIME', 'INTERNSHIP', 'CONTRACT', 'PART_TIME', 'TEMPORARY',\n",
       "       'VOLUNTEER', 'OTHER'], dtype=object)"
      ]
     },
     "execution_count": 25,
     "metadata": {},
     "output_type": "execute_result"
    }
   ],
   "source": [
    "postings_data[\"work_type\"].unique()"
   ]
  },
  {
   "cell_type": "code",
   "execution_count": 31,
   "metadata": {},
   "outputs": [
    {
     "data": {
      "text/plain": [
       "job_id                                                               3904407770\n",
       "company_name                                                             Zillow\n",
       "title                                        Senior Business Operations Manager\n",
       "description                   About The Team\\n\\nZillow Group’s mission is to...\n",
       "max_salary                                                             173400.0\n",
       "pay_period                                                               YEARLY\n",
       "location                                                          United States\n",
       "company_id                                                              13990.0\n",
       "views                                                                    9975.0\n",
       "med_salary                                                                  NaN\n",
       "min_salary                                                             108600.0\n",
       "formatted_work_type                                                   Full-time\n",
       "applies                                                                   156.0\n",
       "original_listed_time                                            1713401109000.0\n",
       "remote_allowed                                                              1.0\n",
       "job_posting_url               https://www.linkedin.com/jobs/view/3904407770/...\n",
       "application_url               https://zillow.wd5.myworkdayjobs.com/Zillow_Gr...\n",
       "application_type                                                   OffsiteApply\n",
       "expiry                                                          1715993825000.0\n",
       "closed_time                                                                 NaN\n",
       "formatted_experience_level                                     Mid-Senior level\n",
       "skills_desc                                                                 NaN\n",
       "listed_time                                                     1713401825000.0\n",
       "posting_domain                                     zillow.wd5.myworkdayjobs.com\n",
       "sponsored                                                                     0\n",
       "work_type                                                             FULL_TIME\n",
       "currency                                                                    USD\n",
       "compensation_type                                                   BASE_SALARY\n",
       "normalized_salary                                                      141000.0\n",
       "zip_code                                                                    NaN\n",
       "fips                                                                        NaN\n",
       "new_listed_time                                             2024-04-18 00:57:05\n",
       "Name: 89117, dtype: object"
      ]
     },
     "execution_count": 31,
     "metadata": {},
     "output_type": "execute_result"
    }
   ],
   "source": [
    "index = postings_data[\"views\"].argmax()\n",
    "postings_data.iloc[index]"
   ]
  },
  {
   "cell_type": "code",
   "execution_count": 38,
   "metadata": {},
   "outputs": [],
   "source": [
    "# load company_industry data from csv files\n",
    "company_industry_data = pd.read_csv('data/companies/company_industries.csv')\n",
    "\n",
    "# combine the postings_data and company_industry_data using company_id as the binding key\n",
    "combined_data = pd.merge(postings_data, company_industry_data, on='company_id')\n",
    "\n"
   ]
  },
  {
   "cell_type": "code",
   "execution_count": 49,
   "metadata": {},
   "outputs": [
    {
     "data": {
      "image/png": "[encoded data removed]",
      "text/plain": [
       "<Figure size 640x480 with 1 Axes>"
      ]
     },
     "metadata": {},
     "output_type": "display_data"
    }
   ],
   "source": [
    "# we have industry in the combined data, so show the job posting frequency by industry\n",
    "industry_counts = combined_data['industry'].value_counts()\n",
    "\n",
    "# list top 10 highest job posting industries, and plot the data\n",
    "top_10_industries = industry_counts.head(10)\n",
    "top_10_industries.plot(kind='bar')\n",
    "\n",
    "# show value counts of each bar in the plot\n",
    "for i, v in enumerate(top_10_industries):\n",
    "    plt.text(i, v + 10, str(v), ha='center')"
   ]
  },
  {
   "cell_type": "code",
   "execution_count": 39,
   "metadata": {},
   "outputs": [],
   "source": [
    "company_data = pd.read_csv('data/companies/companies.csv')"
   ]
  },
  {
   "cell_type": "code",
   "execution_count": 40,
   "metadata": {},
   "outputs": [
    {
     "data": {
      "text/html": [
       "<div>\n",
       "<style scoped>\n",
       "    .dataframe tbody tr th:only-of-type {\n",
       "        vertical-align: middle;\n",
       "    }\n",
       "\n",
       "    .dataframe tbody tr th {\n",
       "        vertical-align: top;\n",
       "    }\n",
       "\n",
       "    .dataframe thead th {\n",
       "        text-align: right;\n",
       "    }\n",
       "</style>\n",
       "<table border=\"1\" class=\"dataframe\">\n",
       "  <thead>\n",
       "    <tr style=\"text-align: right;\">\n",
       "      <th></th>\n",
       "      <th>company_id</th>\n",
       "      <th>name</th>\n",
       "      <th>description</th>\n",
       "      <th>company_size</th>\n",
       "      <th>state</th>\n",
       "      <th>country</th>\n",
       "      <th>city</th>\n",
       "      <th>zip_code</th>\n",
       "      <th>address</th>\n",
       "      <th>url</th>\n",
       "    </tr>\n",
       "  </thead>\n",
       "  <tbody>\n",
       "    <tr>\n",
       "      <th>0</th>\n",
       "      <td>1009</td>\n",
       "      <td>IBM</td>\n",
       "      <td>At IBM, we do more than work. We create. We cr...</td>\n",
       "      <td>7.0</td>\n",
       "      <td>NY</td>\n",
       "      <td>US</td>\n",
       "      <td>Armonk, New York</td>\n",
       "      <td>10504</td>\n",
       "      <td>International Business Machines Corp.</td>\n",
       "      <td>https://www.linkedin.com/company/ibm</td>\n",
       "    </tr>\n",
       "    <tr>\n",
       "      <th>1</th>\n",
       "      <td>1016</td>\n",
       "      <td>GE HealthCare</td>\n",
       "      <td>Every day millions of people feel the impact o...</td>\n",
       "      <td>7.0</td>\n",
       "      <td>0</td>\n",
       "      <td>US</td>\n",
       "      <td>Chicago</td>\n",
       "      <td>0</td>\n",
       "      <td>-</td>\n",
       "      <td>https://www.linkedin.com/company/gehealthcare</td>\n",
       "    </tr>\n",
       "    <tr>\n",
       "      <th>2</th>\n",
       "      <td>1025</td>\n",
       "      <td>Hewlett Packard Enterprise</td>\n",
       "      <td>Official LinkedIn of Hewlett Packard Enterpris...</td>\n",
       "      <td>7.0</td>\n",
       "      <td>Texas</td>\n",
       "      <td>US</td>\n",
       "      <td>Houston</td>\n",
       "      <td>77389</td>\n",
       "      <td>1701 E Mossy Oaks Rd Spring</td>\n",
       "      <td>https://www.linkedin.com/company/hewlett-packa...</td>\n",
       "    </tr>\n",
       "    <tr>\n",
       "      <th>3</th>\n",
       "      <td>1028</td>\n",
       "      <td>Oracle</td>\n",
       "      <td>We’re a cloud technology company that provides...</td>\n",
       "      <td>7.0</td>\n",
       "      <td>Texas</td>\n",
       "      <td>US</td>\n",
       "      <td>Austin</td>\n",
       "      <td>78741</td>\n",
       "      <td>2300 Oracle Way</td>\n",
       "      <td>https://www.linkedin.com/company/oracle</td>\n",
       "    </tr>\n",
       "    <tr>\n",
       "      <th>4</th>\n",
       "      <td>1033</td>\n",
       "      <td>Accenture</td>\n",
       "      <td>Accenture is a leading global professional ser...</td>\n",
       "      <td>7.0</td>\n",
       "      <td>0</td>\n",
       "      <td>IE</td>\n",
       "      <td>Dublin 2</td>\n",
       "      <td>0</td>\n",
       "      <td>Grand Canal Harbour</td>\n",
       "      <td>https://www.linkedin.com/company/accenture</td>\n",
       "    </tr>\n",
       "    <tr>\n",
       "      <th>...</th>\n",
       "      <td>...</td>\n",
       "      <td>...</td>\n",
       "      <td>...</td>\n",
       "      <td>...</td>\n",
       "      <td>...</td>\n",
       "      <td>...</td>\n",
       "      <td>...</td>\n",
       "      <td>...</td>\n",
       "      <td>...</td>\n",
       "      <td>...</td>\n",
       "    </tr>\n",
       "    <tr>\n",
       "      <th>24468</th>\n",
       "      <td>103463217</td>\n",
       "      <td>JRC Services</td>\n",
       "      <td>NaN</td>\n",
       "      <td>2.0</td>\n",
       "      <td>0</td>\n",
       "      <td>0</td>\n",
       "      <td>0</td>\n",
       "      <td>0</td>\n",
       "      <td>0</td>\n",
       "      <td>https://www.linkedin.com/company/jrcservices</td>\n",
       "    </tr>\n",
       "    <tr>\n",
       "      <th>24469</th>\n",
       "      <td>103466352</td>\n",
       "      <td>Centent Consulting LLC</td>\n",
       "      <td>Centent Consulting LLC is a reputable human re...</td>\n",
       "      <td>NaN</td>\n",
       "      <td>0</td>\n",
       "      <td>0</td>\n",
       "      <td>0</td>\n",
       "      <td>0</td>\n",
       "      <td>0</td>\n",
       "      <td>https://www.linkedin.com/company/centent-consu...</td>\n",
       "    </tr>\n",
       "    <tr>\n",
       "      <th>24470</th>\n",
       "      <td>103467540</td>\n",
       "      <td>Kings and Queens Productions, LLC</td>\n",
       "      <td>We are a small but mighty collection of thinke...</td>\n",
       "      <td>NaN</td>\n",
       "      <td>0</td>\n",
       "      <td>0</td>\n",
       "      <td>0</td>\n",
       "      <td>0</td>\n",
       "      <td>0</td>\n",
       "      <td>https://www.linkedin.com/company/kings-and-que...</td>\n",
       "    </tr>\n",
       "    <tr>\n",
       "      <th>24471</th>\n",
       "      <td>103468936</td>\n",
       "      <td>WebUnite</td>\n",
       "      <td>Our mission at WebUnite is to offer experience...</td>\n",
       "      <td>NaN</td>\n",
       "      <td>Pennsylvania</td>\n",
       "      <td>US</td>\n",
       "      <td>Southampton</td>\n",
       "      <td>18966</td>\n",
       "      <td>720 2nd Street Pike</td>\n",
       "      <td>https://www.linkedin.com/company/webunite</td>\n",
       "    </tr>\n",
       "    <tr>\n",
       "      <th>24472</th>\n",
       "      <td>103472979</td>\n",
       "      <td>BlackVe</td>\n",
       "      <td>NaN</td>\n",
       "      <td>1.0</td>\n",
       "      <td>0</td>\n",
       "      <td>0</td>\n",
       "      <td>0</td>\n",
       "      <td>0</td>\n",
       "      <td>0</td>\n",
       "      <td>https://www.linkedin.com/company/blackve</td>\n",
       "    </tr>\n",
       "  </tbody>\n",
       "</table>\n",
       "<p>24473 rows × 10 columns</p>\n",
       "</div>"
      ],
      "text/plain": [
       "       company_id                               name  \\\n",
       "0            1009                                IBM   \n",
       "1            1016                      GE HealthCare   \n",
       "2            1025         Hewlett Packard Enterprise   \n",
       "3            1028                             Oracle   \n",
       "4            1033                          Accenture   \n",
       "...           ...                                ...   \n",
       "24468   103463217                       JRC Services   \n",
       "24469   103466352             Centent Consulting LLC   \n",
       "24470   103467540  Kings and Queens Productions, LLC   \n",
       "24471   103468936                           WebUnite   \n",
       "24472   103472979                            BlackVe   \n",
       "\n",
       "                                             description  company_size  \\\n",
       "0      At IBM, we do more than work. We create. We cr...           7.0   \n",
       "1      Every day millions of people feel the impact o...           7.0   \n",
       "2      Official LinkedIn of Hewlett Packard Enterpris...           7.0   \n",
       "3      We’re a cloud technology company that provides...           7.0   \n",
       "4      Accenture is a leading global professional ser...           7.0   \n",
       "...                                                  ...           ...   \n",
       "24468                                                NaN           2.0   \n",
       "24469  Centent Consulting LLC is a reputable human re...           NaN   \n",
       "24470  We are a small but mighty collection of thinke...           NaN   \n",
       "24471  Our mission at WebUnite is to offer experience...           NaN   \n",
       "24472                                                NaN           1.0   \n",
       "\n",
       "              state country              city zip_code  \\\n",
       "0                NY      US  Armonk, New York    10504   \n",
       "1                 0      US           Chicago        0   \n",
       "2             Texas      US           Houston    77389   \n",
       "3             Texas      US            Austin    78741   \n",
       "4                 0      IE          Dublin 2        0   \n",
       "...             ...     ...               ...      ...   \n",
       "24468             0       0                 0        0   \n",
       "24469             0       0                 0        0   \n",
       "24470             0       0                 0        0   \n",
       "24471  Pennsylvania      US       Southampton    18966   \n",
       "24472             0       0                 0        0   \n",
       "\n",
       "                                     address  \\\n",
       "0      International Business Machines Corp.   \n",
       "1                                          -   \n",
       "2                1701 E Mossy Oaks Rd Spring   \n",
       "3                            2300 Oracle Way   \n",
       "4                        Grand Canal Harbour   \n",
       "...                                      ...   \n",
       "24468                                      0   \n",
       "24469                                      0   \n",
       "24470                                      0   \n",
       "24471                    720 2nd Street Pike   \n",
       "24472                                      0   \n",
       "\n",
       "                                                     url  \n",
       "0                   https://www.linkedin.com/company/ibm  \n",
       "1          https://www.linkedin.com/company/gehealthcare  \n",
       "2      https://www.linkedin.com/company/hewlett-packa...  \n",
       "3                https://www.linkedin.com/company/oracle  \n",
       "4             https://www.linkedin.com/company/accenture  \n",
       "...                                                  ...  \n",
       "24468       https://www.linkedin.com/company/jrcservices  \n",
       "24469  https://www.linkedin.com/company/centent-consu...  \n",
       "24470  https://www.linkedin.com/company/kings-and-que...  \n",
       "24471          https://www.linkedin.com/company/webunite  \n",
       "24472           https://www.linkedin.com/company/blackve  \n",
       "\n",
       "[24473 rows x 10 columns]"
      ]
     },
     "execution_count": 40,
     "metadata": {},
     "output_type": "execute_result"
    }
   ],
   "source": [
    "company_data"
   ]
  },
  {
   "cell_type": "code",
   "execution_count": 44,
   "metadata": {},
   "outputs": [
    {
     "data": {
      "text/html": [
       "<div>\n",
       "<style scoped>\n",
       "    .dataframe tbody tr th:only-of-type {\n",
       "        vertical-align: middle;\n",
       "    }\n",
       "\n",
       "    .dataframe tbody tr th {\n",
       "        vertical-align: top;\n",
       "    }\n",
       "\n",
       "    .dataframe thead th {\n",
       "        text-align: right;\n",
       "    }\n",
       "</style>\n",
       "<table border=\"1\" class=\"dataframe\">\n",
       "  <thead>\n",
       "    <tr style=\"text-align: right;\">\n",
       "      <th></th>\n",
       "      <th>ID</th>\n",
       "      <th>Resume_str</th>\n",
       "      <th>Resume_html</th>\n",
       "      <th>Category</th>\n",
       "    </tr>\n",
       "  </thead>\n",
       "  <tbody>\n",
       "    <tr>\n",
       "      <th>0</th>\n",
       "      <td>16852973</td>\n",
       "      <td>HR ADMINISTRATOR/MARKETING ASSOCIATE\\...</td>\n",
       "      <td>&lt;div class=\"fontsize fontface vmargins hmargin...</td>\n",
       "      <td>HR</td>\n",
       "    </tr>\n",
       "    <tr>\n",
       "      <th>1</th>\n",
       "      <td>22323967</td>\n",
       "      <td>HR SPECIALIST, US HR OPERATIONS      ...</td>\n",
       "      <td>&lt;div class=\"fontsize fontface vmargins hmargin...</td>\n",
       "      <td>HR</td>\n",
       "    </tr>\n",
       "    <tr>\n",
       "      <th>2</th>\n",
       "      <td>33176873</td>\n",
       "      <td>HR DIRECTOR       Summary      Over 2...</td>\n",
       "      <td>&lt;div class=\"fontsize fontface vmargins hmargin...</td>\n",
       "      <td>HR</td>\n",
       "    </tr>\n",
       "    <tr>\n",
       "      <th>3</th>\n",
       "      <td>27018550</td>\n",
       "      <td>HR SPECIALIST       Summary    Dedica...</td>\n",
       "      <td>&lt;div class=\"fontsize fontface vmargins hmargin...</td>\n",
       "      <td>HR</td>\n",
       "    </tr>\n",
       "    <tr>\n",
       "      <th>4</th>\n",
       "      <td>17812897</td>\n",
       "      <td>HR MANAGER         Skill Highlights  ...</td>\n",
       "      <td>&lt;div class=\"fontsize fontface vmargins hmargin...</td>\n",
       "      <td>HR</td>\n",
       "    </tr>\n",
       "  </tbody>\n",
       "</table>\n",
       "</div>"
      ],
      "text/plain": [
       "         ID                                         Resume_str  \\\n",
       "0  16852973           HR ADMINISTRATOR/MARKETING ASSOCIATE\\...   \n",
       "1  22323967           HR SPECIALIST, US HR OPERATIONS      ...   \n",
       "2  33176873           HR DIRECTOR       Summary      Over 2...   \n",
       "3  27018550           HR SPECIALIST       Summary    Dedica...   \n",
       "4  17812897           HR MANAGER         Skill Highlights  ...   \n",
       "\n",
       "                                         Resume_html Category  \n",
       "0  <div class=\"fontsize fontface vmargins hmargin...       HR  \n",
       "1  <div class=\"fontsize fontface vmargins hmargin...       HR  \n",
       "2  <div class=\"fontsize fontface vmargins hmargin...       HR  \n",
       "3  <div class=\"fontsize fontface vmargins hmargin...       HR  \n",
       "4  <div class=\"fontsize fontface vmargins hmargin...       HR  "
      ]
     },
     "execution_count": 44,
     "metadata": {},
     "output_type": "execute_result"
    }
   ],
   "source": [
    "# Resume data\n",
    "resume_data = pd.read_csv('data/Resume.csv')\n",
    "resume_data.head()"
   ]
  },
  {
   "cell_type": "code",
   "execution_count": 43,
   "metadata": {},
   "outputs": [
    {
     "data": {
      "text/plain": [
       "array(['HR', 'DESIGNER', 'INFORMATION-TECHNOLOGY', 'TEACHER', 'ADVOCATE',\n",
       "       'BUSINESS-DEVELOPMENT', 'HEALTHCARE', 'FITNESS', 'AGRICULTURE',\n",
       "       'BPO', 'SALES', 'CONSULTANT', 'DIGITAL-MEDIA', 'AUTOMOBILE',\n",
       "       'CHEF', 'FINANCE', 'APPAREL', 'ENGINEERING', 'ACCOUNTANT',\n",
       "       'CONSTRUCTION', 'PUBLIC-RELATIONS', 'BANKING', 'ARTS', 'AVIATION'],\n",
       "      dtype=object)"
      ]
     },
     "execution_count": 43,
     "metadata": {},
     "output_type": "execute_result"
    }
   ],
   "source": [
    "resume_data.Category.unique()"
   ]
  },
  {
   "cell_type": "markdown",
   "metadata": {},
   "source": [
    "# Analyzing Skill Demand and Resume Matching Across Industries Using Text Mining Techniques\n",
    "\n",
    "\n",
    "## 1. Preprocessing the Data\n",
    "\n",
    "### Job Dataset:\n",
    "\n",
    "Clean description and title fields (e.g., remove stop words, punctuation, normalize case).\n",
    "Standardize category labels or use a pre-existing industry taxonomy (e.g., O*NET, ESCO).\n",
    "Resume Dataset:\n",
    "\n",
    "Extract and preprocess skill-related content.\n",
    "Standardize formatting to align with the job dataset.\n",
    "\n",
    "### Approach:\n",
    "- Preprocess description to clean text (e.g., remove stop words, punctuation).\n",
    "- Use Named Entity Recognition (NER) or keyword extraction techniques (e.g., spaCy, YAKE, or TF-IDF).\n",
    "- Match extracted phrases with a predefined skills ontology (e.g., O*NET or ESCO).\n",
    "- Rank skills by frequency and relevance across job postings."
   ]
  },
  {
   "cell_type": "markdown",
   "metadata": {},
   "source": []
  },
  {
   "cell_type": "markdown",
   "metadata": {},
   "source": [
    "## 2. Categorizing Job Descriptions\n",
    "\n",
    "- Use title and description to assign a category/industry to each job:\n",
    "  - Rule-Based Matching: Use a dictionary of industry keywords (e.g., \"developer\" -> IT, \"nurse\" -> Healthcare).\n",
    "  - Machine Learning: Train a text classification model using labeled data to predict categories."
   ]
  },
  {
   "cell_type": "markdown",
   "metadata": {},
   "source": [
    "## 3. Skill Extraction\n",
    "- Extract skill keywords from job descriptions:\n",
    "  - Use NER tools (e.g., spaCy) to identify potential skill entities.\n",
    "  - Leverage existing skill ontologies (e.g., O*NET, ESCO) to validate extracted skills.\n",
    "  - Rank skills by frequency or relevance within each category."
   ]
  },
  {
   "cell_type": "markdown",
   "metadata": {},
   "source": [
    "## 4. Skill Matching with Resumes\n",
    "\n",
    "- Extract skills from resumes using the same process as for job descriptions.\n",
    "- Match extracted resume skills against job skills:\n",
    "  - Calculate the matching percentage for each resume and job description.\n",
    "  - Aggregate matches by industry or category."
   ]
  },
  {
   "cell_type": "markdown",
   "metadata": {},
   "source": [
    "## 5. Analysis and Reporting\n",
    "\n",
    "- Matching Rates:\n",
    "\n",
    "  - Compute average skill matching rates per industry or category.\n",
    "  - Highlight industries with high/low matching rates.\n",
    "\n",
    "- Insights:\n",
    "\n",
    "  - Identify the most common skills missing from resumes in each category.\n",
    "  - Provide recommendations for skill improvement in low-matching categories.\n",
    "  \n",
    "- Visualization:\n",
    "\n",
    "  - Bar charts showing matching rates across categories.\n",
    "  - Heatmaps of skill demand versus availability."
   ]
  },
  {
   "cell_type": "markdown",
   "metadata": {},
   "source": [
    "### Resume Entities for NER\n",
    "https://www.kaggle.com/datasets/dataturks/resume-entities-for-ner\n",
    "\n",
    "基于文本挖掘的智能岗位推荐系统研究\n",
    "https://xueshu.baidu.com/usercenter/paper/show?paperid=1a6808j0my2q0600j46100b0s7168867&site=xueshu_se\n",
    "\n",
    "基于深度学习的就业供需精准智能匹配应用研究\n",
    "https://xueshu.baidu.com/usercenter/paper/show?paperid=1f3p0j107h4f02t0yx3k0vw0ba329941&site=xueshu_se\n"
   ]
  }
 ],
 "metadata": {
  "kernelspec": {
   "display_name": "textmining",
   "language": "python",
   "name": "python3"
  },
  "language_info": {
   "codemirror_mode": {
    "name": "ipython",
    "version": 3
   },
   "file_extension": ".py",
   "mimetype": "text/x-python",
   "name": "python",
   "nbconvert_exporter": "python",
   "pygments_lexer": "ipython3",
   "version": "3.11.6"
  }
 },
 "nbformat": 4,
 "nbformat_minor": 2
}
